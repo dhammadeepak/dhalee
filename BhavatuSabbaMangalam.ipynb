{
 "cells": [
  {
   "cell_type": "markdown",
   "metadata": {},
   "source": [
    "### Prayer For All Beings : Bhavatu Sabba Mangalam\n",
    "     We pray to mother nature for the well being of all the beings\n",
    "     May dhamma beings help and guide us on this path \n",
    "     Date : 13-07-2022 on the auspicious occasion of Guru Poornima\n",
    "#### www.dhamma.org\n"
   ]
  },
  {
   "cell_type": "code",
   "execution_count": 1,
   "metadata": {},
   "outputs": [
    {
     "name": "stdout",
     "output_type": "stream",
     "text": [
      "Bhavatu Sabba Mangalam\n"
     ]
    }
   ],
   "source": [
    "print(\"Bhavatu Sabba Mangalam\")"
   ]
  },
  {
   "cell_type": "code",
   "execution_count": null,
   "metadata": {},
   "outputs": [],
   "source": []
  }
 ],
 "metadata": {
  "kernelspec": {
   "display_name": "Python 3",
   "language": "python",
   "name": "python3"
  },
  "language_info": {
   "codemirror_mode": {
    "name": "ipython",
    "version": 3
   },
   "file_extension": ".py",
   "mimetype": "text/x-python",
   "name": "python",
   "nbconvert_exporter": "python",
   "pygments_lexer": "ipython3",
   "version": "3.7.3"
  }
 },
 "nbformat": 4,
 "nbformat_minor": 2
}
